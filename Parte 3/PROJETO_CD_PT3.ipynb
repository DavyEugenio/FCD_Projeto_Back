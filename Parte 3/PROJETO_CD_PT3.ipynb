{
  "nbformat": 4,
  "nbformat_minor": 0,
  "metadata": {
    "colab": {
      "provenance": []
    },
    "kernelspec": {
      "name": "python3",
      "display_name": "Python 3"
    },
    "language_info": {
      "name": "python"
    }
  },
  "cells": [
    {
      "cell_type": "code",
      "execution_count": null,
      "metadata": {
        "id": "Wt1-DG8915_h"
      },
      "outputs": [],
      "source": [
        "import pandas as pd\n",
        "import numpy as np\n",
        "import matplotlib.pyplot as plt\n",
        "import seaborn as sns\n",
        "from scipy.stats import genextreme\n",
        "from sklearn.model_selection import train_test_split\n",
        "from sklearn.linear_model import LinearRegression, LogisticRegression\n",
        "from sklearn.metrics import confusion_matrix, roc_curve, auc\n",
        "from pygam import PoissonGAM, LinearGAM"
      ]
    },
    {
      "cell_type": "code",
      "source": [
        "# Pré-processamento dos dados\n",
        "def preprocess_data(df):\n",
        "    df.dropna(inplace=True)  # Remover valores nulos\n",
        "    return df\n"
      ],
      "metadata": {
        "id": "PphM4zZy38nJ"
      },
      "execution_count": null,
      "outputs": []
    },
    {
      "cell_type": "code",
      "source": [
        "# RF1 - Modelagem de eventos extremos (Método de Gumbel)\n",
        "def gumbel_analysis(df, column):\n",
        "    params = genextreme.fit(df[column])\n",
        "    x = np.linspace(min(df[column]), max(df[column]), 100)\n",
        "    y = genextreme.pdf(x, *params)\n",
        "\n",
        "    plt.figure(figsize=(8, 5))\n",
        "    sns.histplot(df[column], kde=True, stat=\"density\")\n",
        "    plt.plot(x, y, 'r-', label=\"Distribuição de Gumbel\")\n",
        "    plt.legend()\n",
        "    plt.title(f'Análise de Gumbel para {column}')\n",
        "    plt.show()\n",
        "    return params\n"
      ],
      "metadata": {
        "id": "Np94799S4Hdg"
      },
      "execution_count": null,
      "outputs": []
    },
    {
      "cell_type": "code",
      "source": [
        "# RF2 - Gráficos para visualização de extremos\n",
        "def plot_gumbel_distribution(df, column):\n",
        "    params = genextreme.fit(df[column])\n",
        "    x = np.linspace(min(df[column]), max(df[column]), 100)\n",
        "    y = genextreme.pdf(x, *params)\n",
        "\n",
        "    plt.figure(figsize=(8, 5))\n",
        "    sns.histplot(df[column], kde=True, stat=\"density\")\n",
        "    plt.plot(x, y, 'r-', label=\"Distribuição de Gumbel\")\n",
        "    plt.legend()\n",
        "    plt.title(f'Visualização de Gumbel para {column}')\n",
        "    plt.show()\n"
      ],
      "metadata": {
        "id": "05oYcM2b4NF_"
      },
      "execution_count": null,
      "outputs": []
    },
    {
      "cell_type": "code",
      "source": [
        "# RF3 - Regressão Linear\n",
        "def linear_regression(df, independent_vars, dependent_var):\n",
        "    X = df[independent_vars]\n",
        "    y = df[dependent_var]\n",
        "    X_train, X_test, y_train, y_test = train_test_split(X, y, test_size=0.2, random_state=42)\n",
        "    model = LinearRegression()\n",
        "    model.fit(X_train, y_train)\n",
        "    predictions = model.predict(X_test)\n",
        "\n",
        "    plt.scatter(y_test, predictions)\n",
        "    plt.xlabel(\"Valores Reais\")\n",
        "    plt.ylabel(\"Previsões\")\n",
        "    plt.title(f'Regressão Linear para {dependent_var}')\n",
        "    plt.show()\n",
        "    return model\n",
        "\n"
      ],
      "metadata": {
        "id": "hnl3wkBu4RnH"
      },
      "execution_count": null,
      "outputs": []
    },
    {
      "cell_type": "code",
      "source": [
        "# RF4 - Gráficos para regressão linear\n",
        "def plot_regression_results(y_test, predictions):\n",
        "    plt.scatter(y_test, predictions)\n",
        "    plt.xlabel(\"Valores Reais\")\n",
        "    plt.ylabel(\"Previsões\")\n",
        "    plt.title(\"Gráfico de Regressão Linear\")\n",
        "    plt.show()\n"
      ],
      "metadata": {
        "id": "oZ36LIcN4X06"
      },
      "execution_count": null,
      "outputs": []
    },
    {
      "cell_type": "code",
      "source": [
        "# RF5 - Regressão Logística\n",
        "def logistic_regression(df, independent_vars, target):\n",
        "    X = df[independent_vars]\n",
        "    y = (df[target] > df[target].mean()).astype(int)  # Transformar em binário\n",
        "    X_train, X_test, y_train, y_test = train_test_split(X, y, test_size=0.2, random_state=42)\n",
        "    model = LogisticRegression()\n",
        "    model.fit(X_train, y_train)\n",
        "    y_pred = model.predict(X_test)\n",
        "    cm = confusion_matrix(y_test, y_pred)\n",
        "\n",
        "    sns.heatmap(cm, annot=True, fmt='d', cmap='Blues')\n",
        "    plt.title(f'Matriz de Confusão - {target}')\n",
        "    plt.show()\n",
        "    return model\n",
        "\n"
      ],
      "metadata": {
        "id": "1lCY7zTY4kyZ"
      },
      "execution_count": null,
      "outputs": []
    },
    {
      "cell_type": "code",
      "source": [
        "# RF6 - Gráficos para regressão logística\n",
        "def plot_logistic_confusion_matrix(y_test, y_pred):\n",
        "    cm = confusion_matrix(y_test, y_pred)\n",
        "    sns.heatmap(cm, annot=True, fmt='d', cmap='Blues')\n",
        "    plt.title(\"Matriz de Confusão\")\n",
        "    plt.show()\n",
        "\n"
      ],
      "metadata": {
        "id": "ow8DI0bj5666"
      },
      "execution_count": null,
      "outputs": []
    },
    {
      "cell_type": "code",
      "source": [
        "# RF7 - Modelos GAMLSS usando PyGAM\n",
        "def gamlss_poisson(df, independent_vars, target):\n",
        "    X = df[independent_vars]\n",
        "    y = df[target]\n",
        "    model = PoissonGAM()\n",
        "    model.fit(X, y)\n",
        "    return model\n",
        "\n"
      ],
      "metadata": {
        "id": "2x0xJkK259KZ"
      },
      "execution_count": null,
      "outputs": []
    },
    {
      "cell_type": "code",
      "source": [
        "# RF8 - Visualizações para GAMLSS\n",
        "def plot_gamlss_results(model, X, y):\n",
        "    plt.figure(figsize=(8, 5))\n",
        "    plt.scatter(y, model.predict(X), alpha=0.5)\n",
        "    plt.xlabel(\"Valores Reais\")\n",
        "    plt.ylabel(\"Previsões\")\n",
        "    plt.title(\"Resultados do Modelo GAMLSS\")\n",
        "    plt.show()\n"
      ],
      "metadata": {
        "id": "2KmL6rS55_Ck"
      },
      "execution_count": null,
      "outputs": []
    },
    {
      "cell_type": "code",
      "source": [
        "# Exemplo de uso\n",
        "data = pd.read_csv('nba_data.csv')\n",
        "data = preprocess_data(data)\n",
        "gumbel_analysis(data, 'pontos')\n",
        "plot_gumbel_distribution(data, 'pontos')\n",
        "linear_model = linear_regression(data, ['tempo_quadra', 'arremessos_tentados', 'turnovers'], 'pontos')\n",
        "logistic_model = logistic_regression(data, ['tempo_quadra', 'arremessos_tentados', 'turnovers'], 'pontos')\n",
        "poisson_gam = gamlss_poisson(data, ['tempo_quadra', 'arremessos_tentados', 'turnovers'], 'pontos')\n"
      ],
      "metadata": {
        "id": "UJApRmQm6AsG"
      },
      "execution_count": null,
      "outputs": []
    }
  ]
}